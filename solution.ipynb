{
 "cells": [
  {
   "cell_type": "code",
   "execution_count": 1,
   "source": [
    "import numpy as np\r\n",
    "import pandas as pd\r\n",
    "from sklearn.preprocessing import OneHotEncoder\r\n",
    "from sklearn.model_selection import train_test_split\r\n",
    "from sklearn.linear_model import LinearRegression"
   ],
   "outputs": [],
   "metadata": {}
  },
  {
   "cell_type": "code",
   "execution_count": 2,
   "source": [
    "final_customer_mkt_data = pd.read_csv('customer_mkt_data_final.csv').drop(columns = ['Unnamed: 0', 'Effective To Date', 'Customer'])"
   ],
   "outputs": [],
   "metadata": {}
  },
  {
   "cell_type": "code",
   "execution_count": 3,
   "source": [
    "numericals = final_customer_mkt_data.select_dtypes(include = np.number)\r\n",
    "categoricals = final_customer_mkt_data.select_dtypes(include = object)\r\n",
    "y = numericals['Total Claim Amount']"
   ],
   "outputs": [],
   "metadata": {}
  },
  {
   "cell_type": "code",
   "execution_count": 4,
   "source": [
    "encoder = OneHotEncoder().fit(categoricals)\r\n",
    "categoricals_array = encoder.transform(categoricals).toarray()"
   ],
   "outputs": [],
   "metadata": {}
  },
  {
   "cell_type": "code",
   "execution_count": 5,
   "source": [
    "# to improve the model, we remove one column of every category to reduce the dimensions of the data keeping the same information.\r\n",
    "\r\n",
    "final_columns = list()\r\n",
    "to_drop_columns = list()\r\n",
    "\r\n",
    "for columns in encoder.categories_:\r\n",
    "    to_drop_columns.append(columns[0])\r\n",
    "    for column in columns.tolist():\r\n",
    "        final_columns.append(column)"
   ],
   "outputs": [],
   "metadata": {}
  },
  {
   "cell_type": "code",
   "execution_count": 6,
   "source": [
    "categoricals_dataframe = pd.DataFrame(data = categoricals_array, columns = final_columns)\r\n",
    "categoricals_dataframe = categoricals_dataframe.drop(columns = to_drop_columns)"
   ],
   "outputs": [],
   "metadata": {}
  },
  {
   "cell_type": "code",
   "execution_count": 7,
   "source": [
    "X = pd.concat([numericals, categoricals_dataframe], axis = 1)"
   ],
   "outputs": [],
   "metadata": {}
  },
  {
   "cell_type": "code",
   "execution_count": 8,
   "source": [
    "X_train, X_test, y_train, y_test = train_test_split(X, y, test_size = 0.50, random_state = 42)"
   ],
   "outputs": [],
   "metadata": {}
  },
  {
   "cell_type": "code",
   "execution_count": 9,
   "source": [
    "linear_regression = LinearRegression()\r\n",
    "linear_regression.fit(X_train, y_train)"
   ],
   "outputs": [
    {
     "output_type": "execute_result",
     "data": {
      "text/plain": [
       "LinearRegression()"
      ]
     },
     "metadata": {},
     "execution_count": 9
    }
   ],
   "metadata": {}
  },
  {
   "cell_type": "code",
   "execution_count": 10,
   "source": [
    "from sklearn.metrics import r2_score, mean_squared_error, mean_absolute_error\r\n",
    "\r\n",
    "predictions = linear_regression.predict(X_test)\r\n",
    "\r\n",
    "r2 = r2_score(predictions, y_test)\r\n",
    "mse = mean_squared_error(predictions, y_test)\r\n",
    "mae = mean_absolute_error(predictions, y_test)"
   ],
   "outputs": [],
   "metadata": {}
  },
  {
   "cell_type": "code",
   "execution_count": 11,
   "source": [
    "from math import sqrt\r\n",
    "\r\n",
    "print(f'R2: {r2}')\r\n",
    "print(f'MSE: {mse}')\r\n",
    "print(f'MAE: {mae}')\r\n",
    "print(f'RMSE: {sqrt(mse)}')"
   ],
   "outputs": [
    {
     "output_type": "stream",
     "name": "stdout",
     "text": [
      "R2: 1.0\n",
      "MSE: 9.631248835358781e-26\n",
      "MAE: 2.4502104357321644e-13\n",
      "RMSE: 3.103425339098523e-13\n"
     ]
    }
   ],
   "metadata": {}
  }
 ],
 "metadata": {
  "orig_nbformat": 4,
  "language_info": {
   "name": "python",
   "version": "3.7.6",
   "mimetype": "text/x-python",
   "codemirror_mode": {
    "name": "ipython",
    "version": 3
   },
   "pygments_lexer": "ipython3",
   "nbconvert_exporter": "python",
   "file_extension": ".py"
  },
  "kernelspec": {
   "name": "python3",
   "display_name": "Python 3.7.6 64-bit ('ironhack_environment': venv)"
  },
  "interpreter": {
   "hash": "df81bf56b2521791aaa0ff1ac8d57256f917b61d33ad24d6b6d13191d105bbf2"
  }
 },
 "nbformat": 4,
 "nbformat_minor": 2
}